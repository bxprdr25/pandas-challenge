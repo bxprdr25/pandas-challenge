{
 "cells": [
  {
   "cell_type": "markdown",
   "metadata": {},
   "source": [
    "### Note\n",
    "* Instructions have been included for each segment. You do not have to follow them exactly, but they are included to help you think through the steps."
   ]
  },
  {
   "cell_type": "code",
   "execution_count": 1,
   "metadata": {},
   "outputs": [],
   "source": [
    "# Dependencies and Setup\n",
    "import pandas as pd\n",
    "import numpy as np\n",
    "import pandas.io.formats.style\n",
    "\n",
    "# File to Load (Remember to Change These)\n",
    "file_to_load = \"Resources/purchase_data.csv\"\n",
    "\n",
    "# Read Purchasing File and store into Pandas data frame\n",
    "purchase_data_df = pd.read_csv(file_to_load)"
   ]
  },
  {
   "cell_type": "markdown",
   "metadata": {},
   "source": [
    "## Player Count"
   ]
  },
  {
   "cell_type": "markdown",
   "metadata": {},
   "source": [
    "* Display the total number of players\n"
   ]
  },
  {
   "cell_type": "code",
   "execution_count": 2,
   "metadata": {},
   "outputs": [
    {
     "data": {
      "text/html": [
       "<div>\n",
       "<style scoped>\n",
       "    .dataframe tbody tr th:only-of-type {\n",
       "        vertical-align: middle;\n",
       "    }\n",
       "\n",
       "    .dataframe tbody tr th {\n",
       "        vertical-align: top;\n",
       "    }\n",
       "\n",
       "    .dataframe thead th {\n",
       "        text-align: right;\n",
       "    }\n",
       "</style>\n",
       "<table border=\"1\" class=\"dataframe\">\n",
       "  <thead>\n",
       "    <tr style=\"text-align: right;\">\n",
       "      <th></th>\n",
       "      <th>Purchase ID</th>\n",
       "      <th>SN</th>\n",
       "      <th>Age</th>\n",
       "      <th>Gender</th>\n",
       "      <th>Item ID</th>\n",
       "      <th>Item Name</th>\n",
       "      <th>Price</th>\n",
       "    </tr>\n",
       "  </thead>\n",
       "  <tbody>\n",
       "    <tr>\n",
       "      <th>0</th>\n",
       "      <td>0</td>\n",
       "      <td>Lisim78</td>\n",
       "      <td>20</td>\n",
       "      <td>Male</td>\n",
       "      <td>108</td>\n",
       "      <td>Extraction, Quickblade Of Trembling Hands</td>\n",
       "      <td>3.53</td>\n",
       "    </tr>\n",
       "    <tr>\n",
       "      <th>1</th>\n",
       "      <td>1</td>\n",
       "      <td>Lisovynya38</td>\n",
       "      <td>40</td>\n",
       "      <td>Male</td>\n",
       "      <td>143</td>\n",
       "      <td>Frenzied Scimitar</td>\n",
       "      <td>1.56</td>\n",
       "    </tr>\n",
       "    <tr>\n",
       "      <th>2</th>\n",
       "      <td>2</td>\n",
       "      <td>Ithergue48</td>\n",
       "      <td>24</td>\n",
       "      <td>Male</td>\n",
       "      <td>92</td>\n",
       "      <td>Final Critic</td>\n",
       "      <td>4.88</td>\n",
       "    </tr>\n",
       "    <tr>\n",
       "      <th>3</th>\n",
       "      <td>3</td>\n",
       "      <td>Chamassasya86</td>\n",
       "      <td>24</td>\n",
       "      <td>Male</td>\n",
       "      <td>100</td>\n",
       "      <td>Blindscythe</td>\n",
       "      <td>3.27</td>\n",
       "    </tr>\n",
       "    <tr>\n",
       "      <th>4</th>\n",
       "      <td>4</td>\n",
       "      <td>Iskosia90</td>\n",
       "      <td>23</td>\n",
       "      <td>Male</td>\n",
       "      <td>131</td>\n",
       "      <td>Fury</td>\n",
       "      <td>1.44</td>\n",
       "    </tr>\n",
       "  </tbody>\n",
       "</table>\n",
       "</div>"
      ],
      "text/plain": [
       "   Purchase ID             SN  Age Gender  Item ID  \\\n",
       "0            0        Lisim78   20   Male      108   \n",
       "1            1    Lisovynya38   40   Male      143   \n",
       "2            2     Ithergue48   24   Male       92   \n",
       "3            3  Chamassasya86   24   Male      100   \n",
       "4            4      Iskosia90   23   Male      131   \n",
       "\n",
       "                                   Item Name  Price  \n",
       "0  Extraction, Quickblade Of Trembling Hands   3.53  \n",
       "1                          Frenzied Scimitar   1.56  \n",
       "2                               Final Critic   4.88  \n",
       "3                                Blindscythe   3.27  \n",
       "4                                       Fury   1.44  "
      ]
     },
     "execution_count": 2,
     "metadata": {},
     "output_type": "execute_result"
    }
   ],
   "source": [
    "#Print first 5 records of the csv data\n",
    "purchase_data_df.head()"
   ]
  },
  {
   "cell_type": "code",
   "execution_count": 3,
   "metadata": {},
   "outputs": [
    {
     "data": {
      "text/html": [
       "<div>\n",
       "<style scoped>\n",
       "    .dataframe tbody tr th:only-of-type {\n",
       "        vertical-align: middle;\n",
       "    }\n",
       "\n",
       "    .dataframe tbody tr th {\n",
       "        vertical-align: top;\n",
       "    }\n",
       "\n",
       "    .dataframe thead th {\n",
       "        text-align: right;\n",
       "    }\n",
       "</style>\n",
       "<table border=\"1\" class=\"dataframe\">\n",
       "  <thead>\n",
       "    <tr style=\"text-align: right;\">\n",
       "      <th></th>\n",
       "      <th>Total Players</th>\n",
       "    </tr>\n",
       "  </thead>\n",
       "  <tbody>\n",
       "    <tr>\n",
       "      <th>0</th>\n",
       "      <td>576</td>\n",
       "    </tr>\n",
       "  </tbody>\n",
       "</table>\n",
       "</div>"
      ],
      "text/plain": [
       "   Total Players\n",
       "0            576"
      ]
     },
     "execution_count": 3,
     "metadata": {},
     "output_type": "execute_result"
    }
   ],
   "source": [
    "#Display the total number of players\n",
    "screen_name = purchase_data_df[\"SN\"].value_counts().count()\n",
    "#screen_name\n",
    "total_players = pd.DataFrame({\"Total Players\": screen_name}, index=[0])\n",
    "\n",
    "total_players"
   ]
  },
  {
   "cell_type": "markdown",
   "metadata": {},
   "source": [
    "## Purchasing Analysis (Total)"
   ]
  },
  {
   "cell_type": "markdown",
   "metadata": {},
   "source": [
    "* Run basic calculations to obtain number of unique items, average price, etc.\n",
    "\n",
    "\n",
    "* Create a summary data frame to hold the results\n",
    "\n",
    "\n",
    "* Optional: give the displayed data cleaner formatting\n",
    "\n",
    "\n",
    "* Display the summary data frame\n"
   ]
  },
  {
   "cell_type": "code",
   "execution_count": 4,
   "metadata": {},
   "outputs": [
    {
     "data": {
      "text/plain": [
       "Purchase ID      int64\n",
       "SN              object\n",
       "Age              int64\n",
       "Gender          object\n",
       "Item ID          int64\n",
       "Item Name       object\n",
       "Price          float64\n",
       "dtype: object"
      ]
     },
     "execution_count": 4,
     "metadata": {},
     "output_type": "execute_result"
    }
   ],
   "source": [
    "#Show the data types of the columns in the data\n",
    "purchase_data_df.dtypes"
   ]
  },
  {
   "cell_type": "code",
   "execution_count": 5,
   "metadata": {},
   "outputs": [],
   "source": [
    "#Calculation to obtain the total number of records in the \n",
    "total_count = purchase_data_df[\"SN\"].count()\n",
    "\n",
    "#Calculate the total revenue\n",
    "total_revenue = purchase_data_df[\"Price\"].sum()\n",
    "\n",
    "#Calculate the number of unique items \n",
    "total_unique = len(purchase_data_df[\"Item Name\"].unique())\n",
    "\n",
    "#Calculate the average price\n",
    "avg_price = total_revenue / total_count"
   ]
  },
  {
   "cell_type": "code",
   "execution_count": 6,
   "metadata": {},
   "outputs": [
    {
     "data": {
      "text/html": [
       "<style  type=\"text/css\" >\n",
       "</style><table id=\"T_70c0c238_3c30_11eb_9785_7c67a2c90be8\" ><thead>    <tr>        <th class=\"blank level0\" ></th>        <th class=\"col_heading level0 col0\" >Number of Unique Items</th>        <th class=\"col_heading level0 col1\" >Average Price</th>        <th class=\"col_heading level0 col2\" >Number of Purchase</th>        <th class=\"col_heading level0 col3\" >Total Revenue</th>    </tr></thead><tbody>\n",
       "                <tr>\n",
       "                        <th id=\"T_70c0c238_3c30_11eb_9785_7c67a2c90be8level0_row0\" class=\"row_heading level0 row0\" >0</th>\n",
       "                        <td id=\"T_70c0c238_3c30_11eb_9785_7c67a2c90be8row0_col0\" class=\"data row0 col0\" >179</td>\n",
       "                        <td id=\"T_70c0c238_3c30_11eb_9785_7c67a2c90be8row0_col1\" class=\"data row0 col1\" >$3.05</td>\n",
       "                        <td id=\"T_70c0c238_3c30_11eb_9785_7c67a2c90be8row0_col2\" class=\"data row0 col2\" >780</td>\n",
       "                        <td id=\"T_70c0c238_3c30_11eb_9785_7c67a2c90be8row0_col3\" class=\"data row0 col3\" >$2,379.77</td>\n",
       "            </tr>\n",
       "    </tbody></table>"
      ],
      "text/plain": [
       "<pandas.io.formats.style.Styler at 0x15dcd755f70>"
      ]
     },
     "execution_count": 6,
     "metadata": {},
     "output_type": "execute_result"
    }
   ],
   "source": [
    "#Create a summary and give the columns different names by putting the values in a dictionary (Key/Value Pairs)\n",
    "summary_df = pd.DataFrame({\"Number of Unique Items\": [total_unique],\n",
    "                              \"Average Price\": avg_price,\n",
    "                              \"Number of Purchase\": total_count,\n",
    "                              \"Total Revenue\": total_revenue})\n",
    "\n",
    "#Format 2 of the columns in the summary so they are showing as $\n",
    "summary_df.style.format({'Average Price':\"${:,.2f}\",\n",
    "                         'Total Revenue': '${:,.2f}'})"
   ]
  },
  {
   "cell_type": "markdown",
   "metadata": {},
   "source": [
    "## Gender Demographics"
   ]
  },
  {
   "cell_type": "markdown",
   "metadata": {},
   "source": [
    "* Percentage and Count of Male Players\n",
    "\n",
    "\n",
    "* Percentage and Count of Female Players\n",
    "\n",
    "\n",
    "* Percentage and Count of Other / Non-Disclosed\n",
    "\n",
    "\n"
   ]
  },
  {
   "cell_type": "code",
   "execution_count": 7,
   "metadata": {},
   "outputs": [
    {
     "data": {
      "text/html": [
       "<div>\n",
       "<style scoped>\n",
       "    .dataframe tbody tr th:only-of-type {\n",
       "        vertical-align: middle;\n",
       "    }\n",
       "\n",
       "    .dataframe tbody tr th {\n",
       "        vertical-align: top;\n",
       "    }\n",
       "\n",
       "    .dataframe thead th {\n",
       "        text-align: right;\n",
       "    }\n",
       "</style>\n",
       "<table border=\"1\" class=\"dataframe\">\n",
       "  <thead>\n",
       "    <tr style=\"text-align: right;\">\n",
       "      <th></th>\n",
       "      <th>Total Count</th>\n",
       "      <th>Percentage of Players</th>\n",
       "    </tr>\n",
       "    <tr>\n",
       "      <th>Gender</th>\n",
       "      <th></th>\n",
       "      <th></th>\n",
       "    </tr>\n",
       "  </thead>\n",
       "  <tbody>\n",
       "    <tr>\n",
       "      <th>Male</th>\n",
       "      <td>484</td>\n",
       "      <td>84.03%</td>\n",
       "    </tr>\n",
       "    <tr>\n",
       "      <th>Female</th>\n",
       "      <td>81</td>\n",
       "      <td>14.06%</td>\n",
       "    </tr>\n",
       "    <tr>\n",
       "      <th>Other / Non-Disclosed</th>\n",
       "      <td>11</td>\n",
       "      <td>1.91%</td>\n",
       "    </tr>\n",
       "  </tbody>\n",
       "</table>\n",
       "</div>"
      ],
      "text/plain": [
       "                       Total Count Percentage of Players\n",
       "Gender                                                  \n",
       "Male                           484                84.03%\n",
       "Female                          81                14.06%\n",
       "Other / Non-Disclosed           11                 1.91%"
      ]
     },
     "execution_count": 7,
     "metadata": {},
     "output_type": "execute_result"
    }
   ],
   "source": [
    "#Group the Gender column so all same values are together\n",
    "gender_counts_df = purchase_data_df.groupby(\"Gender\")\n",
    "\n",
    "#Calculate the unique screen names and get the number of gender for each so only 1 value for every screen name is tallied\n",
    "unique_SN_df = gender_counts_df[\"SN\"].nunique()\n",
    "\n",
    "#Calculate the gender % of players and format them\n",
    "gender_percentage_df = round((unique_SN_df / screen_name)*100,2).map(\"{0:,.2f}%\".format)\n",
    "\n",
    "#Create a summary for the gender demographics and sort highest to lowest by the total count\n",
    "gender_summary_df = pd.DataFrame({\"Total Count\": unique_SN_df,\n",
    "                               \"Percentage of Players\": gender_percentage_df})\n",
    "\n",
    "#Gender demographics summary table sorted by total count\n",
    "gender_summary_df.sort_values(by=\"Total Count\", ascending=False)"
   ]
  },
  {
   "cell_type": "markdown",
   "metadata": {},
   "source": [
    "\n",
    "## Purchasing Analysis (Gender)"
   ]
  },
  {
   "cell_type": "markdown",
   "metadata": {},
   "source": [
    "* Run basic calculations to obtain purchase count, avg. purchase price, avg. purchase total per person etc. by gender\n",
    "\n",
    "\n",
    "* Create a summary data frame to hold the results\n",
    "\n",
    "\n",
    "* Optional: give the displayed data cleaner formatting\n",
    "\n",
    "\n",
    "* Display the summary data frame"
   ]
  },
  {
   "cell_type": "code",
   "execution_count": 8,
   "metadata": {},
   "outputs": [
    {
     "data": {
      "text/html": [
       "<style  type=\"text/css\" >\n",
       "</style><table id=\"T_75566f46_3c30_11eb_bcad_7c67a2c90be8\" ><thead>    <tr>        <th class=\"blank level0\" ></th>        <th class=\"col_heading level0 col0\" >Purchase Count</th>        <th class=\"col_heading level0 col1\" >Average Purchase Price</th>        <th class=\"col_heading level0 col2\" >Total Purchase Value</th>        <th class=\"col_heading level0 col3\" >Avg Total Purchase per Person</th>    </tr></thead><tbody>\n",
       "                <tr>\n",
       "                        <th id=\"T_75566f46_3c30_11eb_bcad_7c67a2c90be8level0_row0\" class=\"row_heading level0 row0\" >Male</th>\n",
       "                        <td id=\"T_75566f46_3c30_11eb_bcad_7c67a2c90be8row0_col0\" class=\"data row0 col0\" >652</td>\n",
       "                        <td id=\"T_75566f46_3c30_11eb_bcad_7c67a2c90be8row0_col1\" class=\"data row0 col1\" >$3.02</td>\n",
       "                        <td id=\"T_75566f46_3c30_11eb_bcad_7c67a2c90be8row0_col2\" class=\"data row0 col2\" >$1,967.64</td>\n",
       "                        <td id=\"T_75566f46_3c30_11eb_bcad_7c67a2c90be8row0_col3\" class=\"data row0 col3\" >$4.07</td>\n",
       "            </tr>\n",
       "            <tr>\n",
       "                        <th id=\"T_75566f46_3c30_11eb_bcad_7c67a2c90be8level0_row1\" class=\"row_heading level0 row1\" >Female</th>\n",
       "                        <td id=\"T_75566f46_3c30_11eb_bcad_7c67a2c90be8row1_col0\" class=\"data row1 col0\" >113</td>\n",
       "                        <td id=\"T_75566f46_3c30_11eb_bcad_7c67a2c90be8row1_col1\" class=\"data row1 col1\" >$3.20</td>\n",
       "                        <td id=\"T_75566f46_3c30_11eb_bcad_7c67a2c90be8row1_col2\" class=\"data row1 col2\" >$361.94</td>\n",
       "                        <td id=\"T_75566f46_3c30_11eb_bcad_7c67a2c90be8row1_col3\" class=\"data row1 col3\" >$4.47</td>\n",
       "            </tr>\n",
       "            <tr>\n",
       "                        <th id=\"T_75566f46_3c30_11eb_bcad_7c67a2c90be8level0_row2\" class=\"row_heading level0 row2\" >Other / Non-Disclosed</th>\n",
       "                        <td id=\"T_75566f46_3c30_11eb_bcad_7c67a2c90be8row2_col0\" class=\"data row2 col0\" >15</td>\n",
       "                        <td id=\"T_75566f46_3c30_11eb_bcad_7c67a2c90be8row2_col1\" class=\"data row2 col1\" >$3.35</td>\n",
       "                        <td id=\"T_75566f46_3c30_11eb_bcad_7c67a2c90be8row2_col2\" class=\"data row2 col2\" >$50.19</td>\n",
       "                        <td id=\"T_75566f46_3c30_11eb_bcad_7c67a2c90be8row2_col3\" class=\"data row2 col3\" >$4.56</td>\n",
       "            </tr>\n",
       "    </tbody></table>"
      ],
      "text/plain": [
       "<pandas.io.formats.style.Styler at 0x15dcd774dc0>"
      ]
     },
     "execution_count": 8,
     "metadata": {},
     "output_type": "execute_result"
    }
   ],
   "source": [
    "#Get purchase value count of all Genders even if duplicate purchases\n",
    "purchase_count = purchase_data_df[\"Gender\"].value_counts()\n",
    "\n",
    "#Calculate average purchase price for each Gender regardless of duplicates\n",
    "avg_purchase_df = round(purchase_data_df.groupby(\"Gender\").Price.mean(),2)\n",
    "\n",
    "#Calculate the total sum of the purchase price for each gender\n",
    "total_gender_purch_df = round(purchase_data_df.groupby(\"Gender\").Price.sum(),2)\n",
    "\n",
    "#Calculate the total average purchase price for each gender excluding duplicates\n",
    "total_avg_purchase_df = round((total_gender_purch_df / unique_SN_df),2)\n",
    "\n",
    "#Create a summary and give the columns different names by putting the values in a dictionary (Key/Value Pairs)\n",
    "gender_purchasing_df = pd.DataFrame({\"Purchase Count\": purchase_count,\n",
    "                              \"Average Purchase Price\": avg_purchase_df,\n",
    "                              \"Total Purchase Value\": total_gender_purch_df,\n",
    "                              \"Avg Total Purchase per Person\": total_avg_purchase_df})\n",
    "\n",
    "#Sort the dataframe by purchase count\n",
    "gender_purchasing_df = gender_purchasing_df.sort_values(by=\"Purchase Count\", ascending=False)\n",
    "\n",
    "#Format 3 of the columns in the summary so they are showing as $\n",
    "gender_purchasing_df.style.format({\"Average Purchase Price\":\"${:,.2f}\", \n",
    "                                   \"Total Purchase Value\":\"${:,.2f}\", \n",
    "                                   \"Avg Total Purchase per Person\":\"${:,.2f}\"})"
   ]
  },
  {
   "cell_type": "markdown",
   "metadata": {},
   "source": [
    "## Age Demographics"
   ]
  },
  {
   "cell_type": "markdown",
   "metadata": {},
   "source": [
    "* Establish bins for ages\n",
    "\n",
    "\n",
    "* Categorize the existing players using the age bins. Hint: use pd.cut()\n",
    "\n",
    "\n",
    "* Calculate the numbers and percentages by age group\n",
    "\n",
    "\n",
    "* Create a summary data frame to hold the results\n",
    "\n",
    "\n",
    "* Optional: round the percentage column to two decimal points\n",
    "\n",
    "\n",
    "* Display Age Demographics Table\n"
   ]
  },
  {
   "cell_type": "code",
   "execution_count": 9,
   "metadata": {},
   "outputs": [
    {
     "data": {
      "text/html": [
       "<div>\n",
       "<style scoped>\n",
       "    .dataframe tbody tr th:only-of-type {\n",
       "        vertical-align: middle;\n",
       "    }\n",
       "\n",
       "    .dataframe tbody tr th {\n",
       "        vertical-align: top;\n",
       "    }\n",
       "\n",
       "    .dataframe thead th {\n",
       "        text-align: right;\n",
       "    }\n",
       "</style>\n",
       "<table border=\"1\" class=\"dataframe\">\n",
       "  <thead>\n",
       "    <tr style=\"text-align: right;\">\n",
       "      <th></th>\n",
       "      <th>Total Count</th>\n",
       "      <th>Percentage of Players</th>\n",
       "    </tr>\n",
       "    <tr>\n",
       "      <th>Age Ranges</th>\n",
       "      <th></th>\n",
       "      <th></th>\n",
       "    </tr>\n",
       "  </thead>\n",
       "  <tbody>\n",
       "    <tr>\n",
       "      <th>&lt;10</th>\n",
       "      <td>17</td>\n",
       "      <td>2.95%</td>\n",
       "    </tr>\n",
       "    <tr>\n",
       "      <th>10-14</th>\n",
       "      <td>22</td>\n",
       "      <td>3.82%</td>\n",
       "    </tr>\n",
       "    <tr>\n",
       "      <th>15-19</th>\n",
       "      <td>107</td>\n",
       "      <td>18.58%</td>\n",
       "    </tr>\n",
       "    <tr>\n",
       "      <th>20-24</th>\n",
       "      <td>258</td>\n",
       "      <td>44.79%</td>\n",
       "    </tr>\n",
       "    <tr>\n",
       "      <th>25-29</th>\n",
       "      <td>77</td>\n",
       "      <td>13.37%</td>\n",
       "    </tr>\n",
       "    <tr>\n",
       "      <th>30-34</th>\n",
       "      <td>52</td>\n",
       "      <td>9.03%</td>\n",
       "    </tr>\n",
       "    <tr>\n",
       "      <th>35-39</th>\n",
       "      <td>31</td>\n",
       "      <td>5.38%</td>\n",
       "    </tr>\n",
       "    <tr>\n",
       "      <th>40+</th>\n",
       "      <td>12</td>\n",
       "      <td>2.08%</td>\n",
       "    </tr>\n",
       "  </tbody>\n",
       "</table>\n",
       "</div>"
      ],
      "text/plain": [
       "            Total Count Percentage of Players\n",
       "Age Ranges                                   \n",
       "<10                  17                 2.95%\n",
       "10-14                22                 3.82%\n",
       "15-19               107                18.58%\n",
       "20-24               258                44.79%\n",
       "25-29                77                13.37%\n",
       "30-34                52                 9.03%\n",
       "35-39                31                 5.38%\n",
       "40+                  12                 2.08%"
      ]
     },
     "execution_count": 9,
     "metadata": {},
     "output_type": "execute_result"
    }
   ],
   "source": [
    "# Establish bins for ages and create labels \n",
    "demo_bins = [0, 9.90, 14.90, 19.90, 24.90, 29.90, 34.90, 39.90, 99999]\n",
    "groups = [\"<10\", \"10-14\", \"15-19\", \"20-24\", \"25-29\", \"30-34\", \"35-39\", \"40+\"]\n",
    "\n",
    "# slice the data using pd.cut and  Categorize the existing players based on age_bins  \n",
    "purchase_data_df[\"Age Ranges\"] = pd.cut(purchase_data_df[\"Age\"],demo_bins, labels=groups)\n",
    "\n",
    "#group dataframe by Age Ranges\n",
    "age_group_df = purchase_data_df.groupby(\"Age Ranges\")\n",
    "\n",
    "#Calculate the unique screen names and get the number of gender for each so only 1 value for every screen name is tallied\n",
    "unique_age_df = age_group_df[\"SN\"].nunique()\n",
    "\n",
    "#Calculate the average player percentage for each age range\n",
    "age_percentage_df = round((unique_age_df / screen_name)*100,2).map(\"{0:,.2f}%\".format)\n",
    "\n",
    "#Create the age range dataframe summary\n",
    "age_summary_df = pd.DataFrame({\"Total Count\": unique_age_df,\n",
    "                               \"Percentage of Players\": age_percentage_df})\n",
    "\n",
    "age_summary_df"
   ]
  },
  {
   "cell_type": "markdown",
   "metadata": {},
   "source": [
    "## Purchasing Analysis (Age)"
   ]
  },
  {
   "cell_type": "markdown",
   "metadata": {},
   "source": [
    "* Bin the purchase_data data frame by age\n",
    "\n",
    "\n",
    "* Run basic calculations to obtain purchase count, avg. purchase price, avg. purchase total per person etc. in the table below\n",
    "\n",
    "\n",
    "* Create a summary data frame to hold the results\n",
    "\n",
    "\n",
    "* Optional: give the displayed data cleaner formatting\n",
    "\n",
    "\n",
    "* Display the summary data frame"
   ]
  },
  {
   "cell_type": "code",
   "execution_count": 10,
   "metadata": {},
   "outputs": [
    {
     "data": {
      "text/html": [
       "<style  type=\"text/css\" >\n",
       "</style><table id=\"T_7ded0603_3c30_11eb_a904_7c67a2c90be8\" ><thead>    <tr>        <th class=\"blank level0\" ></th>        <th class=\"col_heading level0 col0\" >Purchase Count</th>        <th class=\"col_heading level0 col1\" >Average Purchase Price</th>        <th class=\"col_heading level0 col2\" >Total Purchase Value</th>        <th class=\"col_heading level0 col3\" >Avg Total Purchase per Person</th>    </tr>    <tr>        <th class=\"index_name level0\" >Age Ranges</th>        <th class=\"blank\" ></th>        <th class=\"blank\" ></th>        <th class=\"blank\" ></th>        <th class=\"blank\" ></th>    </tr></thead><tbody>\n",
       "                <tr>\n",
       "                        <th id=\"T_7ded0603_3c30_11eb_a904_7c67a2c90be8level0_row0\" class=\"row_heading level0 row0\" ><10</th>\n",
       "                        <td id=\"T_7ded0603_3c30_11eb_a904_7c67a2c90be8row0_col0\" class=\"data row0 col0\" >17</td>\n",
       "                        <td id=\"T_7ded0603_3c30_11eb_a904_7c67a2c90be8row0_col1\" class=\"data row0 col1\" >$3.35</td>\n",
       "                        <td id=\"T_7ded0603_3c30_11eb_a904_7c67a2c90be8row0_col2\" class=\"data row0 col2\" >$77.13</td>\n",
       "                        <td id=\"T_7ded0603_3c30_11eb_a904_7c67a2c90be8row0_col3\" class=\"data row0 col3\" >$4.54</td>\n",
       "            </tr>\n",
       "            <tr>\n",
       "                        <th id=\"T_7ded0603_3c30_11eb_a904_7c67a2c90be8level0_row1\" class=\"row_heading level0 row1\" >10-14</th>\n",
       "                        <td id=\"T_7ded0603_3c30_11eb_a904_7c67a2c90be8row1_col0\" class=\"data row1 col0\" >22</td>\n",
       "                        <td id=\"T_7ded0603_3c30_11eb_a904_7c67a2c90be8row1_col1\" class=\"data row1 col1\" >$2.96</td>\n",
       "                        <td id=\"T_7ded0603_3c30_11eb_a904_7c67a2c90be8row1_col2\" class=\"data row1 col2\" >$82.78</td>\n",
       "                        <td id=\"T_7ded0603_3c30_11eb_a904_7c67a2c90be8row1_col3\" class=\"data row1 col3\" >$3.76</td>\n",
       "            </tr>\n",
       "            <tr>\n",
       "                        <th id=\"T_7ded0603_3c30_11eb_a904_7c67a2c90be8level0_row2\" class=\"row_heading level0 row2\" >15-19</th>\n",
       "                        <td id=\"T_7ded0603_3c30_11eb_a904_7c67a2c90be8row2_col0\" class=\"data row2 col0\" >107</td>\n",
       "                        <td id=\"T_7ded0603_3c30_11eb_a904_7c67a2c90be8row2_col1\" class=\"data row2 col1\" >$3.04</td>\n",
       "                        <td id=\"T_7ded0603_3c30_11eb_a904_7c67a2c90be8row2_col2\" class=\"data row2 col2\" >$412.89</td>\n",
       "                        <td id=\"T_7ded0603_3c30_11eb_a904_7c67a2c90be8row2_col3\" class=\"data row2 col3\" >$3.86</td>\n",
       "            </tr>\n",
       "            <tr>\n",
       "                        <th id=\"T_7ded0603_3c30_11eb_a904_7c67a2c90be8level0_row3\" class=\"row_heading level0 row3\" >20-24</th>\n",
       "                        <td id=\"T_7ded0603_3c30_11eb_a904_7c67a2c90be8row3_col0\" class=\"data row3 col0\" >258</td>\n",
       "                        <td id=\"T_7ded0603_3c30_11eb_a904_7c67a2c90be8row3_col1\" class=\"data row3 col1\" >$3.05</td>\n",
       "                        <td id=\"T_7ded0603_3c30_11eb_a904_7c67a2c90be8row3_col2\" class=\"data row3 col2\" >$1,114.06</td>\n",
       "                        <td id=\"T_7ded0603_3c30_11eb_a904_7c67a2c90be8row3_col3\" class=\"data row3 col3\" >$4.32</td>\n",
       "            </tr>\n",
       "            <tr>\n",
       "                        <th id=\"T_7ded0603_3c30_11eb_a904_7c67a2c90be8level0_row4\" class=\"row_heading level0 row4\" >25-29</th>\n",
       "                        <td id=\"T_7ded0603_3c30_11eb_a904_7c67a2c90be8row4_col0\" class=\"data row4 col0\" >77</td>\n",
       "                        <td id=\"T_7ded0603_3c30_11eb_a904_7c67a2c90be8row4_col1\" class=\"data row4 col1\" >$2.90</td>\n",
       "                        <td id=\"T_7ded0603_3c30_11eb_a904_7c67a2c90be8row4_col2\" class=\"data row4 col2\" >$293.00</td>\n",
       "                        <td id=\"T_7ded0603_3c30_11eb_a904_7c67a2c90be8row4_col3\" class=\"data row4 col3\" >$3.81</td>\n",
       "            </tr>\n",
       "            <tr>\n",
       "                        <th id=\"T_7ded0603_3c30_11eb_a904_7c67a2c90be8level0_row5\" class=\"row_heading level0 row5\" >30-34</th>\n",
       "                        <td id=\"T_7ded0603_3c30_11eb_a904_7c67a2c90be8row5_col0\" class=\"data row5 col0\" >52</td>\n",
       "                        <td id=\"T_7ded0603_3c30_11eb_a904_7c67a2c90be8row5_col1\" class=\"data row5 col1\" >$2.93</td>\n",
       "                        <td id=\"T_7ded0603_3c30_11eb_a904_7c67a2c90be8row5_col2\" class=\"data row5 col2\" >$214.00</td>\n",
       "                        <td id=\"T_7ded0603_3c30_11eb_a904_7c67a2c90be8row5_col3\" class=\"data row5 col3\" >$4.12</td>\n",
       "            </tr>\n",
       "            <tr>\n",
       "                        <th id=\"T_7ded0603_3c30_11eb_a904_7c67a2c90be8level0_row6\" class=\"row_heading level0 row6\" >35-39</th>\n",
       "                        <td id=\"T_7ded0603_3c30_11eb_a904_7c67a2c90be8row6_col0\" class=\"data row6 col0\" >31</td>\n",
       "                        <td id=\"T_7ded0603_3c30_11eb_a904_7c67a2c90be8row6_col1\" class=\"data row6 col1\" >$3.60</td>\n",
       "                        <td id=\"T_7ded0603_3c30_11eb_a904_7c67a2c90be8row6_col2\" class=\"data row6 col2\" >$147.67</td>\n",
       "                        <td id=\"T_7ded0603_3c30_11eb_a904_7c67a2c90be8row6_col3\" class=\"data row6 col3\" >$4.76</td>\n",
       "            </tr>\n",
       "            <tr>\n",
       "                        <th id=\"T_7ded0603_3c30_11eb_a904_7c67a2c90be8level0_row7\" class=\"row_heading level0 row7\" >40+</th>\n",
       "                        <td id=\"T_7ded0603_3c30_11eb_a904_7c67a2c90be8row7_col0\" class=\"data row7 col0\" >12</td>\n",
       "                        <td id=\"T_7ded0603_3c30_11eb_a904_7c67a2c90be8row7_col1\" class=\"data row7 col1\" >$2.94</td>\n",
       "                        <td id=\"T_7ded0603_3c30_11eb_a904_7c67a2c90be8row7_col2\" class=\"data row7 col2\" >$38.24</td>\n",
       "                        <td id=\"T_7ded0603_3c30_11eb_a904_7c67a2c90be8row7_col3\" class=\"data row7 col3\" >$3.19</td>\n",
       "            </tr>\n",
       "    </tbody></table>"
      ],
      "text/plain": [
       "<pandas.io.formats.style.Styler at 0x15dcd777520>"
      ]
     },
     "execution_count": 10,
     "metadata": {},
     "output_type": "execute_result"
    }
   ],
   "source": [
    "purchase_data_df[\"Age Ranges\"] = pd.cut(purchase_data_df[\"Age\"],demo_bins, labels=groups)\n",
    "\n",
    "#Group dataframe by Age Ranges\n",
    "age_group_df = purchase_data_df.groupby(\"Age Ranges\")\n",
    "\n",
    "#Calculate the unique screen names and get the number of gender for each so only 1 value for every screen name is tallied\n",
    "unique_agegroup_df = age_group_df[\"SN\"].nunique()\n",
    "\n",
    "#Calculate average purchase price for each Age Range\n",
    "age_avg_purchase = round(purchase_data_df.groupby(\"Age Ranges\").Price.mean(),2)\n",
    "\n",
    "#Calculate the total sum of the purchase price for each Age Range\n",
    "total_age_purch_df = round(purchase_data_df.groupby(\"Age Ranges\").Price.sum(),2)\n",
    "\n",
    "#Calculate the total average purchase price for each Age Range excluding duplicates\n",
    "total_age_avg_purchase = round((total_age_purch_df / unique_agegroup_df),2)\n",
    "\n",
    "#Create the dataframe summary purchasing analysis by age range\n",
    "age_purchasing_summary = pd.DataFrame({\"Purchase Count\": unique_agegroup_df,\n",
    "                               \"Average Purchase Price\": age_avg_purchase,\n",
    "                               \"Total Purchase Value\": total_age_purch_df,\n",
    "                               \"Avg Total Purchase per Person\": total_age_avg_purchase})\n",
    "\n",
    "#Format the columns so the data has cleaner formatting\n",
    "age_purchasing_summary.style.format({\"Average Purchase Price\":\"${:,.2f}\", \n",
    "                                   \"Total Purchase Value\":\"${:,.2f}\", \n",
    "                                   \"Avg Total Purchase per Person\":\"${:,.2f}\"})"
   ]
  },
  {
   "cell_type": "markdown",
   "metadata": {},
   "source": [
    "## Top Spenders"
   ]
  },
  {
   "cell_type": "markdown",
   "metadata": {},
   "source": [
    "* Run basic calculations to obtain the results in the table below\n",
    "\n",
    "\n",
    "* Create a summary data frame to hold the results\n",
    "\n",
    "\n",
    "* Sort the total purchase value column in descending order\n",
    "\n",
    "\n",
    "* Optional: give the displayed data cleaner formatting\n",
    "\n",
    "\n",
    "* Display a preview of the summary data frame\n",
    "\n"
   ]
  },
  {
   "cell_type": "code",
   "execution_count": 11,
   "metadata": {},
   "outputs": [
    {
     "data": {
      "text/html": [
       "<style  type=\"text/css\" >\n",
       "</style><table id=\"T_8158c847_3c30_11eb_9d57_7c67a2c90be8\" ><thead>    <tr>        <th class=\"blank level0\" ></th>        <th class=\"col_heading level0 col0\" >Purchase Count</th>        <th class=\"col_heading level0 col1\" >Average Purchase Price</th>        <th class=\"col_heading level0 col2\" >Total Purchase Value</th>    </tr>    <tr>        <th class=\"index_name level0\" >SN</th>        <th class=\"blank\" ></th>        <th class=\"blank\" ></th>        <th class=\"blank\" ></th>    </tr></thead><tbody>\n",
       "                <tr>\n",
       "                        <th id=\"T_8158c847_3c30_11eb_9d57_7c67a2c90be8level0_row0\" class=\"row_heading level0 row0\" >Lisosia93</th>\n",
       "                        <td id=\"T_8158c847_3c30_11eb_9d57_7c67a2c90be8row0_col0\" class=\"data row0 col0\" >5</td>\n",
       "                        <td id=\"T_8158c847_3c30_11eb_9d57_7c67a2c90be8row0_col1\" class=\"data row0 col1\" >$3.79</td>\n",
       "                        <td id=\"T_8158c847_3c30_11eb_9d57_7c67a2c90be8row0_col2\" class=\"data row0 col2\" >$18.96</td>\n",
       "            </tr>\n",
       "            <tr>\n",
       "                        <th id=\"T_8158c847_3c30_11eb_9d57_7c67a2c90be8level0_row1\" class=\"row_heading level0 row1\" >Idastidru52</th>\n",
       "                        <td id=\"T_8158c847_3c30_11eb_9d57_7c67a2c90be8row1_col0\" class=\"data row1 col0\" >4</td>\n",
       "                        <td id=\"T_8158c847_3c30_11eb_9d57_7c67a2c90be8row1_col1\" class=\"data row1 col1\" >$3.86</td>\n",
       "                        <td id=\"T_8158c847_3c30_11eb_9d57_7c67a2c90be8row1_col2\" class=\"data row1 col2\" >$15.45</td>\n",
       "            </tr>\n",
       "            <tr>\n",
       "                        <th id=\"T_8158c847_3c30_11eb_9d57_7c67a2c90be8level0_row2\" class=\"row_heading level0 row2\" >Chamjask73</th>\n",
       "                        <td id=\"T_8158c847_3c30_11eb_9d57_7c67a2c90be8row2_col0\" class=\"data row2 col0\" >3</td>\n",
       "                        <td id=\"T_8158c847_3c30_11eb_9d57_7c67a2c90be8row2_col1\" class=\"data row2 col1\" >$4.61</td>\n",
       "                        <td id=\"T_8158c847_3c30_11eb_9d57_7c67a2c90be8row2_col2\" class=\"data row2 col2\" >$13.83</td>\n",
       "            </tr>\n",
       "            <tr>\n",
       "                        <th id=\"T_8158c847_3c30_11eb_9d57_7c67a2c90be8level0_row3\" class=\"row_heading level0 row3\" >Iral74</th>\n",
       "                        <td id=\"T_8158c847_3c30_11eb_9d57_7c67a2c90be8row3_col0\" class=\"data row3 col0\" >4</td>\n",
       "                        <td id=\"T_8158c847_3c30_11eb_9d57_7c67a2c90be8row3_col1\" class=\"data row3 col1\" >$3.40</td>\n",
       "                        <td id=\"T_8158c847_3c30_11eb_9d57_7c67a2c90be8row3_col2\" class=\"data row3 col2\" >$13.62</td>\n",
       "            </tr>\n",
       "            <tr>\n",
       "                        <th id=\"T_8158c847_3c30_11eb_9d57_7c67a2c90be8level0_row4\" class=\"row_heading level0 row4\" >Iskadarya95</th>\n",
       "                        <td id=\"T_8158c847_3c30_11eb_9d57_7c67a2c90be8row4_col0\" class=\"data row4 col0\" >3</td>\n",
       "                        <td id=\"T_8158c847_3c30_11eb_9d57_7c67a2c90be8row4_col1\" class=\"data row4 col1\" >$4.37</td>\n",
       "                        <td id=\"T_8158c847_3c30_11eb_9d57_7c67a2c90be8row4_col2\" class=\"data row4 col2\" >$13.10</td>\n",
       "            </tr>\n",
       "    </tbody></table>"
      ],
      "text/plain": [
       "<pandas.io.formats.style.Styler at 0x15dca6cf100>"
      ]
     },
     "execution_count": 11,
     "metadata": {},
     "output_type": "execute_result"
    }
   ],
   "source": [
    "#Group the dataframe by SN column\n",
    "SN_df = purchase_data_df.groupby(\"SN\")\n",
    "\n",
    "#Count the unique values of the SN column\n",
    "unique_SN_df = SN_df[\"SN\"].count()\n",
    "\n",
    "#Calculate the average price of the unique values in the SN column\n",
    "age_avg_purchase = round(SN_df[\"Price\"].mean(),2)\n",
    "\n",
    "#Calculate the sum price of the unique values in the SN column\n",
    "total_age_purch_df = round(SN_df[\"Price\"].sum(),2)\n",
    "\n",
    "#Top spenders summary dataframe\n",
    "gender_purchasing_df = pd.DataFrame({\"Purchase Count\": unique_SN_df,\n",
    "                              \"Average Purchase Price\": age_avg_purchase,\n",
    "                              \"Total Purchase Value\": total_age_purch_df})\n",
    "\n",
    "#Top spenders summary dataframe sorted and styled\n",
    "gender_purchasing_df.sort_values(by=\"Total Purchase Value\", ascending=False).head().style.format({\"Average Purchase Price\":\"${:,.2f}\", \n",
    "                                   \"Total Purchase Value\":\"${:,.2f}\"})"
   ]
  },
  {
   "cell_type": "markdown",
   "metadata": {},
   "source": [
    "## Most Popular Items"
   ]
  },
  {
   "cell_type": "markdown",
   "metadata": {},
   "source": [
    "* Retrieve the Item ID, Item Name, and Item Price columns\n",
    "\n",
    "\n",
    "* Group by Item ID and Item Name. Perform calculations to obtain purchase count, average item price, and total purchase value\n",
    "\n",
    "\n",
    "* Create a summary data frame to hold the results\n",
    "\n",
    "\n",
    "* Sort the purchase count column in descending order\n",
    "\n",
    "\n",
    "* Optional: give the displayed data cleaner formatting\n",
    "\n",
    "\n",
    "* Display a preview of the summary data frame\n",
    "\n"
   ]
  },
  {
   "cell_type": "code",
   "execution_count": 12,
   "metadata": {},
   "outputs": [
    {
     "data": {
      "text/html": [
       "<style  type=\"text/css\" >\n",
       "</style><table id=\"T_83c78518_3c30_11eb_b404_7c67a2c90be8\" ><thead>    <tr>        <th class=\"blank\" ></th>        <th class=\"blank level0\" ></th>        <th class=\"col_heading level0 col0\" >Purchase Count</th>        <th class=\"col_heading level0 col1\" >Average Purchase Price</th>        <th class=\"col_heading level0 col2\" >Total Purchase Value</th>    </tr>    <tr>        <th class=\"index_name level0\" >Item ID</th>        <th class=\"index_name level1\" >Item Name</th>        <th class=\"blank\" ></th>        <th class=\"blank\" ></th>        <th class=\"blank\" ></th>    </tr></thead><tbody>\n",
       "                <tr>\n",
       "                        <th id=\"T_83c78518_3c30_11eb_b404_7c67a2c90be8level0_row0\" class=\"row_heading level0 row0\" >92</th>\n",
       "                        <th id=\"T_83c78518_3c30_11eb_b404_7c67a2c90be8level1_row0\" class=\"row_heading level1 row0\" >Final Critic</th>\n",
       "                        <td id=\"T_83c78518_3c30_11eb_b404_7c67a2c90be8row0_col0\" class=\"data row0 col0\" >13</td>\n",
       "                        <td id=\"T_83c78518_3c30_11eb_b404_7c67a2c90be8row0_col1\" class=\"data row0 col1\" >$4.61</td>\n",
       "                        <td id=\"T_83c78518_3c30_11eb_b404_7c67a2c90be8row0_col2\" class=\"data row0 col2\" >$59.99</td>\n",
       "            </tr>\n",
       "            <tr>\n",
       "                        <th id=\"T_83c78518_3c30_11eb_b404_7c67a2c90be8level0_row1\" class=\"row_heading level0 row1\" >178</th>\n",
       "                        <th id=\"T_83c78518_3c30_11eb_b404_7c67a2c90be8level1_row1\" class=\"row_heading level1 row1\" >Oathbreaker, Last Hope of the Breaking Storm</th>\n",
       "                        <td id=\"T_83c78518_3c30_11eb_b404_7c67a2c90be8row1_col0\" class=\"data row1 col0\" >12</td>\n",
       "                        <td id=\"T_83c78518_3c30_11eb_b404_7c67a2c90be8row1_col1\" class=\"data row1 col1\" >$4.23</td>\n",
       "                        <td id=\"T_83c78518_3c30_11eb_b404_7c67a2c90be8row1_col2\" class=\"data row1 col2\" >$50.76</td>\n",
       "            </tr>\n",
       "            <tr>\n",
       "                        <th id=\"T_83c78518_3c30_11eb_b404_7c67a2c90be8level0_row2\" class=\"row_heading level0 row2\" >145</th>\n",
       "                        <th id=\"T_83c78518_3c30_11eb_b404_7c67a2c90be8level1_row2\" class=\"row_heading level1 row2\" >Fiery Glass Crusader</th>\n",
       "                        <td id=\"T_83c78518_3c30_11eb_b404_7c67a2c90be8row2_col0\" class=\"data row2 col0\" >9</td>\n",
       "                        <td id=\"T_83c78518_3c30_11eb_b404_7c67a2c90be8row2_col1\" class=\"data row2 col1\" >$4.58</td>\n",
       "                        <td id=\"T_83c78518_3c30_11eb_b404_7c67a2c90be8row2_col2\" class=\"data row2 col2\" >$41.22</td>\n",
       "            </tr>\n",
       "            <tr>\n",
       "                        <th id=\"T_83c78518_3c30_11eb_b404_7c67a2c90be8level0_row3\" class=\"row_heading level0 row3\" >132</th>\n",
       "                        <th id=\"T_83c78518_3c30_11eb_b404_7c67a2c90be8level1_row3\" class=\"row_heading level1 row3\" >Persuasion</th>\n",
       "                        <td id=\"T_83c78518_3c30_11eb_b404_7c67a2c90be8row3_col0\" class=\"data row3 col0\" >9</td>\n",
       "                        <td id=\"T_83c78518_3c30_11eb_b404_7c67a2c90be8row3_col1\" class=\"data row3 col1\" >$3.22</td>\n",
       "                        <td id=\"T_83c78518_3c30_11eb_b404_7c67a2c90be8row3_col2\" class=\"data row3 col2\" >$28.99</td>\n",
       "            </tr>\n",
       "            <tr>\n",
       "                        <th id=\"T_83c78518_3c30_11eb_b404_7c67a2c90be8level0_row4\" class=\"row_heading level0 row4\" >108</th>\n",
       "                        <th id=\"T_83c78518_3c30_11eb_b404_7c67a2c90be8level1_row4\" class=\"row_heading level1 row4\" >Extraction, Quickblade Of Trembling Hands</th>\n",
       "                        <td id=\"T_83c78518_3c30_11eb_b404_7c67a2c90be8row4_col0\" class=\"data row4 col0\" >9</td>\n",
       "                        <td id=\"T_83c78518_3c30_11eb_b404_7c67a2c90be8row4_col1\" class=\"data row4 col1\" >$3.53</td>\n",
       "                        <td id=\"T_83c78518_3c30_11eb_b404_7c67a2c90be8row4_col2\" class=\"data row4 col2\" >$31.77</td>\n",
       "            </tr>\n",
       "    </tbody></table>"
      ],
      "text/plain": [
       "<pandas.io.formats.style.Styler at 0x15dcd816c40>"
      ]
     },
     "execution_count": 12,
     "metadata": {},
     "output_type": "execute_result"
    }
   ],
   "source": [
    "#Retrieve the Item ID, Item Name, and Item Price columns\n",
    "popular_items_df = purchase_data_df[[\"Item ID\", \"Item Name\",\"Price\"]]\n",
    "\n",
    "#Group by Item ID and Item Name\n",
    "popular_items_grouped = popular_items_df.groupby([\"Item ID\", \"Item Name\"])\n",
    "\n",
    "#Perform calculations to obtain purchase count, average item price, and total purchase value\n",
    "most_popular_count = popular_items_grouped[\"Item Name\"].count()\n",
    "avg_most_popular = popular_items_grouped[\"Price\"].mean()\n",
    "total_most_popular = popular_items_grouped[\"Price\"].sum()\n",
    "\n",
    "#Most popular items summary dataframe\n",
    "most_popular_summary = pd.DataFrame({\"Purchase Count\": most_popular_count,\n",
    "                              \"Average Purchase Price\": avg_most_popular,\n",
    "                              \"Total Purchase Value\": total_most_popular})\n",
    "\n",
    "#Most popular items summary dataframe sorted by purchase count and formatted\n",
    "most_popular_summary.sort_values(by=\"Purchase Count\", ascending=False).head().style.format({\"Average Purchase Price\":\"${:,.2f}\", \n",
    "                                   \"Total Purchase Value\":\"${:,.2f}\"})"
   ]
  },
  {
   "cell_type": "markdown",
   "metadata": {},
   "source": [
    "## Most Profitable Items"
   ]
  },
  {
   "cell_type": "markdown",
   "metadata": {},
   "source": [
    "* Sort the above table by total purchase value in descending order\n",
    "\n",
    "\n",
    "* Optional: give the displayed data cleaner formatting\n",
    "\n",
    "\n",
    "* Display a preview of the data frame\n",
    "\n"
   ]
  },
  {
   "cell_type": "code",
   "execution_count": 13,
   "metadata": {
    "scrolled": true
   },
   "outputs": [
    {
     "data": {
      "text/html": [
       "<style  type=\"text/css\" >\n",
       "</style><table id=\"T_88c981c9_3c30_11eb_92c9_7c67a2c90be8\" ><thead>    <tr>        <th class=\"blank\" ></th>        <th class=\"blank level0\" ></th>        <th class=\"col_heading level0 col0\" >Purchase Count</th>        <th class=\"col_heading level0 col1\" >Average Purchase Price</th>        <th class=\"col_heading level0 col2\" >Total Purchase Value</th>    </tr>    <tr>        <th class=\"index_name level0\" >Item ID</th>        <th class=\"index_name level1\" >Item Name</th>        <th class=\"blank\" ></th>        <th class=\"blank\" ></th>        <th class=\"blank\" ></th>    </tr></thead><tbody>\n",
       "                <tr>\n",
       "                        <th id=\"T_88c981c9_3c30_11eb_92c9_7c67a2c90be8level0_row0\" class=\"row_heading level0 row0\" >92</th>\n",
       "                        <th id=\"T_88c981c9_3c30_11eb_92c9_7c67a2c90be8level1_row0\" class=\"row_heading level1 row0\" >Final Critic</th>\n",
       "                        <td id=\"T_88c981c9_3c30_11eb_92c9_7c67a2c90be8row0_col0\" class=\"data row0 col0\" >13</td>\n",
       "                        <td id=\"T_88c981c9_3c30_11eb_92c9_7c67a2c90be8row0_col1\" class=\"data row0 col1\" >$4.61</td>\n",
       "                        <td id=\"T_88c981c9_3c30_11eb_92c9_7c67a2c90be8row0_col2\" class=\"data row0 col2\" >$59.99</td>\n",
       "            </tr>\n",
       "            <tr>\n",
       "                        <th id=\"T_88c981c9_3c30_11eb_92c9_7c67a2c90be8level0_row1\" class=\"row_heading level0 row1\" >178</th>\n",
       "                        <th id=\"T_88c981c9_3c30_11eb_92c9_7c67a2c90be8level1_row1\" class=\"row_heading level1 row1\" >Oathbreaker, Last Hope of the Breaking Storm</th>\n",
       "                        <td id=\"T_88c981c9_3c30_11eb_92c9_7c67a2c90be8row1_col0\" class=\"data row1 col0\" >12</td>\n",
       "                        <td id=\"T_88c981c9_3c30_11eb_92c9_7c67a2c90be8row1_col1\" class=\"data row1 col1\" >$4.23</td>\n",
       "                        <td id=\"T_88c981c9_3c30_11eb_92c9_7c67a2c90be8row1_col2\" class=\"data row1 col2\" >$50.76</td>\n",
       "            </tr>\n",
       "            <tr>\n",
       "                        <th id=\"T_88c981c9_3c30_11eb_92c9_7c67a2c90be8level0_row2\" class=\"row_heading level0 row2\" >82</th>\n",
       "                        <th id=\"T_88c981c9_3c30_11eb_92c9_7c67a2c90be8level1_row2\" class=\"row_heading level1 row2\" >Nirvana</th>\n",
       "                        <td id=\"T_88c981c9_3c30_11eb_92c9_7c67a2c90be8row2_col0\" class=\"data row2 col0\" >9</td>\n",
       "                        <td id=\"T_88c981c9_3c30_11eb_92c9_7c67a2c90be8row2_col1\" class=\"data row2 col1\" >$4.90</td>\n",
       "                        <td id=\"T_88c981c9_3c30_11eb_92c9_7c67a2c90be8row2_col2\" class=\"data row2 col2\" >$44.10</td>\n",
       "            </tr>\n",
       "            <tr>\n",
       "                        <th id=\"T_88c981c9_3c30_11eb_92c9_7c67a2c90be8level0_row3\" class=\"row_heading level0 row3\" >145</th>\n",
       "                        <th id=\"T_88c981c9_3c30_11eb_92c9_7c67a2c90be8level1_row3\" class=\"row_heading level1 row3\" >Fiery Glass Crusader</th>\n",
       "                        <td id=\"T_88c981c9_3c30_11eb_92c9_7c67a2c90be8row3_col0\" class=\"data row3 col0\" >9</td>\n",
       "                        <td id=\"T_88c981c9_3c30_11eb_92c9_7c67a2c90be8row3_col1\" class=\"data row3 col1\" >$4.58</td>\n",
       "                        <td id=\"T_88c981c9_3c30_11eb_92c9_7c67a2c90be8row3_col2\" class=\"data row3 col2\" >$41.22</td>\n",
       "            </tr>\n",
       "            <tr>\n",
       "                        <th id=\"T_88c981c9_3c30_11eb_92c9_7c67a2c90be8level0_row4\" class=\"row_heading level0 row4\" >103</th>\n",
       "                        <th id=\"T_88c981c9_3c30_11eb_92c9_7c67a2c90be8level1_row4\" class=\"row_heading level1 row4\" >Singed Scalpel</th>\n",
       "                        <td id=\"T_88c981c9_3c30_11eb_92c9_7c67a2c90be8row4_col0\" class=\"data row4 col0\" >8</td>\n",
       "                        <td id=\"T_88c981c9_3c30_11eb_92c9_7c67a2c90be8row4_col1\" class=\"data row4 col1\" >$4.35</td>\n",
       "                        <td id=\"T_88c981c9_3c30_11eb_92c9_7c67a2c90be8row4_col2\" class=\"data row4 col2\" >$34.80</td>\n",
       "            </tr>\n",
       "    </tbody></table>"
      ],
      "text/plain": [
       "<pandas.io.formats.style.Styler at 0x15dcd846eb0>"
      ]
     },
     "execution_count": 13,
     "metadata": {},
     "output_type": "execute_result"
    }
   ],
   "source": [
    "#Most popular items summary dataframe sorted by total purchase value and formatted\n",
    "most_popular_summary.sort_values(by=\"Total Purchase Value\", ascending=False).head().style.format({\"Average Purchase Price\":\"${:,.2f}\", \n",
    "                                   \"Total Purchase Value\":\"${:,.2f}\"})"
   ]
  }
 ],
 "metadata": {
  "anaconda-cloud": {},
  "kernel_info": {
   "name": "python3"
  },
  "kernelspec": {
   "display_name": "Python 3",
   "language": "python",
   "name": "python3"
  },
  "language_info": {
   "codemirror_mode": {
    "name": "ipython",
    "version": 3
   },
   "file_extension": ".py",
   "mimetype": "text/x-python",
   "name": "python",
   "nbconvert_exporter": "python",
   "pygments_lexer": "ipython3",
   "version": "3.8.3"
  },
  "latex_envs": {
   "LaTeX_envs_menu_present": true,
   "autoclose": false,
   "autocomplete": true,
   "bibliofile": "biblio.bib",
   "cite_by": "apalike",
   "current_citInitial": 1,
   "eqLabelWithNumbers": true,
   "eqNumInitial": 1,
   "hotkeys": {
    "equation": "Ctrl-E",
    "itemize": "Ctrl-I"
   },
   "labels_anchors": false,
   "latex_user_defs": false,
   "report_style_numbering": false,
   "user_envs_cfg": false
  },
  "nteract": {
   "version": "0.2.0"
  }
 },
 "nbformat": 4,
 "nbformat_minor": 2
}
